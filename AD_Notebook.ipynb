{
 "cells": [
  {
   "cell_type": "markdown",
   "id": "c751934f-0d74-4ea9-acd5-f5581d53b09a",
   "metadata": {},
   "source": [
    "# $\\text{Arrow Debreu European Option Pricing}$"
   ]
  },
  {
   "cell_type": "code",
   "execution_count": 1,
   "id": "4a716512-a3b1-4db2-a29e-69f308e5f1cd",
   "metadata": {},
   "outputs": [],
   "source": [
    "import yfinance as yf\n",
    "import numpy as np\n",
    "import pandas as pd\n",
    "import matplotlib.pyplot as plt\n",
    "from scipy.optimize import nnls"
   ]
  },
  {
   "cell_type": "code",
   "execution_count": 2,
   "id": "c02536d0-7501-4623-be60-6b8c17af31d8",
   "metadata": {},
   "outputs": [
    {
     "name": "stdout",
     "output_type": "stream",
     "text": [
      "Using Expiry: 2025-09-12\n"
     ]
    }
   ],
   "source": [
    "ticker = 'AAPL'\n",
    "ticker_data = yf.Ticker(ticker)\n",
    "expiry = ticker_data.options[4]\n",
    "print('Using Expiry:', expiry)\n",
    "chain = ticker_data.option_chain(expiry)\n",
    "calls = chain.calls #the pricing will be based just on calls "
   ]
  },
  {
   "cell_type": "code",
   "execution_count": 3,
   "id": "2e2f2111-aebf-480a-9f6a-838717b17073",
   "metadata": {},
   "outputs": [
    {
     "name": "stdout",
     "output_type": "stream",
     "text": [
      "Using Spot: 229.35000610351562\n",
      "Will be pricing options for the following spot prices: [179 189 199 209 219 229 239 249 259 269 279] expiring on 2025-09-12\n"
     ]
    }
   ],
   "source": [
    "spot = ticker_data.history(period='1d')['Close'].iloc[-1]\n",
    "possible_states = np.linspace(spot - 50, spot + 50, 11, dtype=int)\n",
    "print('Using Spot:', spot)\n",
    "print(f'Will be pricing options for the following spot prices: {possible_states} expiring on {expiry}')"
   ]
  },
  {
   "cell_type": "code",
   "execution_count": 4,
   "id": "17ef410d-4e6e-4bbf-a090-9e0c293c0982",
   "metadata": {},
   "outputs": [
    {
     "name": "stdout",
     "output_type": "stream",
     "text": [
      "Available Strikes:\n",
      " [140.0, 150.0, 175.0, 180.0, 190.0, 195.0, 200.0, 205.0, 210.0, 215.0, 220.0, 225.0, 230.0, 235.0, 240.0, 245.0, 250.0, 255.0, 260.0, 265.0, 280.0, 325.0]\n"
     ]
    }
   ],
   "source": [
    "available_strikes = sorted(calls[\"strike\"])\n",
    "print('Available Strikes:\\n', available_strikes)"
   ]
  },
  {
   "cell_type": "code",
   "execution_count": 5,
   "id": "d2d1b3e3-9aee-472b-b296-1dd335c3c37d",
   "metadata": {},
   "outputs": [
    {
     "name": "stdout",
     "output_type": "stream",
     "text": [
      "Index of the closest strike price to the spot price: 12\n"
     ]
    }
   ],
   "source": [
    "atm_index = min(range(len(available_strikes)), key=lambda i: abs(available_strikes[i] - spot))\n",
    "print('Index of the closest strike price to the spot price:', atm_index)"
   ]
  },
  {
   "cell_type": "code",
   "execution_count": 6,
   "id": "5300c1bd-a4e0-46a1-ab33-429ad0a0f4e3",
   "metadata": {},
   "outputs": [
    {
     "name": "stdout",
     "output_type": "stream",
     "text": [
      "Lower index bound: 7\n",
      " Upper undex bound: 18\n"
     ]
    }
   ],
   "source": [
    "lower_bound = max(atm_index - 5, 0)\n",
    "upper_bound = min(atm_index + 6, len(available_strikes))\n",
    "print(f'Lower index bound: {lower_bound}\\n', f'Upper undex bound: {upper_bound}')"
   ]
  },
  {
   "cell_type": "code",
   "execution_count": 7,
   "id": "95a217cb-b976-4aa0-86f6-a8f2931c0ecc",
   "metadata": {},
   "outputs": [
    {
     "name": "stdout",
     "output_type": "stream",
     "text": [
      "Selected 11 strikes around ATM: \n",
      " [205.0, 210.0, 215.0, 220.0, 225.0, 230.0, 235.0, 240.0, 245.0, 250.0, 255.0]\n"
     ]
    }
   ],
   "source": [
    "chosen_strikes = available_strikes[lower_bound:upper_bound]\n",
    "chosen_strikes = np.array(chosen_strikes)\n",
    "print(f'Selected {len(chosen_strikes)} strikes around ATM:', '\\n', sorted(chosen_strikes))"
   ]
  },
  {
   "cell_type": "code",
   "execution_count": 8,
   "id": "439f8aee-2996-4461-915c-2ff73ca1a97d",
   "metadata": {},
   "outputs": [
    {
     "data": {
      "text/html": [
       "<div>\n",
       "<style scoped>\n",
       "    .dataframe tbody tr th:only-of-type {\n",
       "        vertical-align: middle;\n",
       "    }\n",
       "\n",
       "    .dataframe tbody tr th {\n",
       "        vertical-align: top;\n",
       "    }\n",
       "\n",
       "    .dataframe thead th {\n",
       "        text-align: right;\n",
       "    }\n",
       "</style>\n",
       "<table border=\"1\" class=\"dataframe\">\n",
       "  <thead>\n",
       "    <tr style=\"text-align: right;\">\n",
       "      <th></th>\n",
       "      <th>strike</th>\n",
       "      <th>bid</th>\n",
       "      <th>ask</th>\n",
       "    </tr>\n",
       "  </thead>\n",
       "  <tbody>\n",
       "    <tr>\n",
       "      <th>0</th>\n",
       "      <td>205.0</td>\n",
       "      <td>26.00</td>\n",
       "      <td>26.40</td>\n",
       "    </tr>\n",
       "    <tr>\n",
       "      <th>1</th>\n",
       "      <td>210.0</td>\n",
       "      <td>21.40</td>\n",
       "      <td>22.15</td>\n",
       "    </tr>\n",
       "    <tr>\n",
       "      <th>2</th>\n",
       "      <td>215.0</td>\n",
       "      <td>17.20</td>\n",
       "      <td>17.50</td>\n",
       "    </tr>\n",
       "    <tr>\n",
       "      <th>3</th>\n",
       "      <td>220.0</td>\n",
       "      <td>13.35</td>\n",
       "      <td>13.60</td>\n",
       "    </tr>\n",
       "    <tr>\n",
       "      <th>4</th>\n",
       "      <td>225.0</td>\n",
       "      <td>9.95</td>\n",
       "      <td>10.10</td>\n",
       "    </tr>\n",
       "  </tbody>\n",
       "</table>\n",
       "</div>"
      ],
      "text/plain": [
       "   strike    bid    ask\n",
       "0   205.0  26.00  26.40\n",
       "1   210.0  21.40  22.15\n",
       "2   215.0  17.20  17.50\n",
       "3   220.0  13.35  13.60\n",
       "4   225.0   9.95  10.10"
      ]
     },
     "execution_count": 8,
     "metadata": {},
     "output_type": "execute_result"
    }
   ],
   "source": [
    "chosen_calls = calls[calls['strike'].isin(chosen_strikes)].copy().reset_index(drop=True)\n",
    "chosen_calls = chosen_calls[['strike', 'bid', 'ask']]\n",
    "chosen_calls.head()"
   ]
  },
  {
   "cell_type": "code",
   "execution_count": 9,
   "id": "405f741e-0d74-4d53-aa10-da8c74881838",
   "metadata": {},
   "outputs": [
    {
     "data": {
      "text/html": [
       "<div>\n",
       "<style scoped>\n",
       "    .dataframe tbody tr th:only-of-type {\n",
       "        vertical-align: middle;\n",
       "    }\n",
       "\n",
       "    .dataframe tbody tr th {\n",
       "        vertical-align: top;\n",
       "    }\n",
       "\n",
       "    .dataframe thead th {\n",
       "        text-align: right;\n",
       "    }\n",
       "</style>\n",
       "<table border=\"1\" class=\"dataframe\">\n",
       "  <thead>\n",
       "    <tr style=\"text-align: right;\">\n",
       "      <th></th>\n",
       "      <th>strike</th>\n",
       "      <th>price_vector</th>\n",
       "    </tr>\n",
       "  </thead>\n",
       "  <tbody>\n",
       "    <tr>\n",
       "      <th>0</th>\n",
       "      <td>205.0</td>\n",
       "      <td>26.200</td>\n",
       "    </tr>\n",
       "    <tr>\n",
       "      <th>1</th>\n",
       "      <td>210.0</td>\n",
       "      <td>21.775</td>\n",
       "    </tr>\n",
       "    <tr>\n",
       "      <th>2</th>\n",
       "      <td>215.0</td>\n",
       "      <td>17.350</td>\n",
       "    </tr>\n",
       "    <tr>\n",
       "      <th>3</th>\n",
       "      <td>220.0</td>\n",
       "      <td>13.475</td>\n",
       "    </tr>\n",
       "    <tr>\n",
       "      <th>4</th>\n",
       "      <td>225.0</td>\n",
       "      <td>10.025</td>\n",
       "    </tr>\n",
       "  </tbody>\n",
       "</table>\n",
       "</div>"
      ],
      "text/plain": [
       "   strike  price_vector\n",
       "0   205.0        26.200\n",
       "1   210.0        21.775\n",
       "2   215.0        17.350\n",
       "3   220.0        13.475\n",
       "4   225.0        10.025"
      ]
     },
     "execution_count": 9,
     "metadata": {},
     "output_type": "execute_result"
    }
   ],
   "source": [
    "chosen_calls['price_vector'] = (chosen_calls['bid']+chosen_calls['ask'])/2\n",
    "chosen_calls = chosen_calls[['strike', 'price_vector']]\n",
    "chosen_calls.head()"
   ]
  },
  {
   "cell_type": "code",
   "execution_count": 10,
   "id": "0db80000-7ca4-4843-b629-b7e44ff9e6dd",
   "metadata": {},
   "outputs": [
    {
     "name": "stdout",
     "output_type": "stream",
     "text": [
      "[205. 210. 215. 220. 225. 230. 235. 240. 245. 250. 255.]\n",
      "[26.2   21.775 17.35  13.475 10.025  7.125  4.825  3.125  1.955  1.21\n",
      "  0.745]\n"
     ]
    }
   ],
   "source": [
    "strikes = chosen_calls[\"strike\"].values\n",
    "price_vector = chosen_calls[\"price_vector\"].values\n",
    "print(strikes)\n",
    "print(price_vector)"
   ]
  },
  {
   "cell_type": "code",
   "execution_count": 11,
   "id": "282eb7b5-a455-49cf-9ee2-d987b0178537",
   "metadata": {},
   "outputs": [
    {
     "name": "stdout",
     "output_type": "stream",
     "text": [
      "Call payoff matrix piece:\n",
      " [[ 0.  0.  0.  4. 14.]\n",
      " [ 0.  0.  0.  0.  9.]\n",
      " [ 0.  0.  0.  0.  4.]\n",
      " [ 0.  0.  0.  0.  0.]\n",
      " [ 0.  0.  0.  0.  0.]]\n",
      " Put payoff matrix piece\n",
      " [[26. 16.  6.  0.  0.]\n",
      " [31. 21. 11.  1.  0.]\n",
      " [36. 26. 16.  6.  0.]\n",
      " [41. 31. 21. 11.  1.]\n",
      " [46. 36. 26. 16.  6.]]\n",
      " Payoff matrices shape: (11, 11)\n"
     ]
    }
   ],
   "source": [
    "terminal_prices = strikes.copy()\n",
    "call_payoff_matrix = np.maximum(possible_states - chosen_strikes[:, None], 0)\n",
    "put_payoff_matrix  = np.maximum(chosen_strikes[:, None] - possible_states, 0)\n",
    "print(f'Call payoff matrix piece:\\n {call_payoff_matrix[:5,:5]}\\n Put payoff matrix piece\\n {put_payoff_matrix[:5,:5]}\\n Payoff matrices shape: {call_payoff_matrix.shape}')\n"
   ]
  },
  {
   "cell_type": "code",
   "execution_count": 12,
   "id": "90cc450f-0809-4b2b-b8e0-0cbd900d1ef2",
   "metadata": {},
   "outputs": [],
   "source": [
    "#state_prices, _, _, _ = np.linalg.lstsq(call_payoff_matrix, price_vector, rcond=None)\n",
    "state_prices, _ = nnls(call_payoff_matrix, price_vector)\n",
    "normalized_state_prices = state_prices/np.sum(state_prices)\n",
    "\n",
    "r=0.0416\n",
    "T=30/365\n",
    "probabilities = state_prices * np.e**(r*T)"
   ]
  },
  {
   "cell_type": "code",
   "execution_count": 13,
   "id": "f6f0b01d-d5fa-42fb-b699-96f5ca439640",
   "metadata": {},
   "outputs": [],
   "source": [
    "#'p.s. \"np.linalg.lstsq\" was resulting in some values being negative so I had to use \"scipy.optimize.nnls\" i.e non-negative least squares.')"
   ]
  },
  {
   "cell_type": "code",
   "execution_count": 14,
   "id": "10f1f963-93e2-4c54-9230-54c0cfd92cee",
   "metadata": {},
   "outputs": [
    {
     "data": {
      "image/png": "[encoded data removed]",
      "text/plain": [
       "<Figure size 1000x500 with 1 Axes>"
      ]
     },
     "metadata": {},
     "output_type": "display_data"
    }
   ],
   "source": [
    "plt.figure(figsize=(10, 5))\n",
    "plt.plot(terminal_prices, normalized_state_prices, marker='o')\n",
    "plt.xlabel('Terminal Price (Strike)')\n",
    "plt.ylabel('State Prices')\n",
    "plt.grid(True)\n",
    "plt.show()"
   ]
  },
  {
   "cell_type": "code",
   "execution_count": 15,
   "id": "52e0ef5d-eeca-4217-b203-d5c958a12bcb",
   "metadata": {},
   "outputs": [
    {
     "data": {
      "text/html": [
       "<div>\n",
       "<style scoped>\n",
       "    .dataframe tbody tr th:only-of-type {\n",
       "        vertical-align: middle;\n",
       "    }\n",
       "\n",
       "    .dataframe tbody tr th {\n",
       "        vertical-align: top;\n",
       "    }\n",
       "\n",
       "    .dataframe thead th {\n",
       "        text-align: right;\n",
       "    }\n",
       "</style>\n",
       "<table border=\"1\" class=\"dataframe\">\n",
       "  <thead>\n",
       "    <tr style=\"text-align: right;\">\n",
       "      <th></th>\n",
       "      <th>Strike</th>\n",
       "      <th>$Call</th>\n",
       "      <th>$Put</th>\n",
       "    </tr>\n",
       "  </thead>\n",
       "  <tbody>\n",
       "    <tr>\n",
       "      <th>0</th>\n",
       "      <td>205.0</td>\n",
       "      <td>28.975668</td>\n",
       "      <td>0.000000</td>\n",
       "    </tr>\n",
       "    <tr>\n",
       "      <th>1</th>\n",
       "      <td>210.0</td>\n",
       "      <td>24.030382</td>\n",
       "      <td>0.054714</td>\n",
       "    </tr>\n",
       "    <tr>\n",
       "      <th>2</th>\n",
       "      <td>215.0</td>\n",
       "      <td>19.303950</td>\n",
       "      <td>0.328282</td>\n",
       "    </tr>\n",
       "    <tr>\n",
       "      <th>3</th>\n",
       "      <td>220.0</td>\n",
       "      <td>14.796476</td>\n",
       "      <td>0.820808</td>\n",
       "    </tr>\n",
       "    <tr>\n",
       "      <th>4</th>\n",
       "      <td>225.0</td>\n",
       "      <td>11.164835</td>\n",
       "      <td>2.189167</td>\n",
       "    </tr>\n",
       "    <tr>\n",
       "      <th>5</th>\n",
       "      <td>230.0</td>\n",
       "      <td>7.790700</td>\n",
       "      <td>3.815032</td>\n",
       "    </tr>\n",
       "    <tr>\n",
       "      <th>6</th>\n",
       "      <td>235.0</td>\n",
       "      <td>5.446583</td>\n",
       "      <td>6.470915</td>\n",
       "    </tr>\n",
       "    <tr>\n",
       "      <th>7</th>\n",
       "      <td>240.0</td>\n",
       "      <td>3.351682</td>\n",
       "      <td>9.376014</td>\n",
       "    </tr>\n",
       "    <tr>\n",
       "      <th>8</th>\n",
       "      <td>245.0</td>\n",
       "      <td>2.253644</td>\n",
       "      <td>13.277976</td>\n",
       "    </tr>\n",
       "    <tr>\n",
       "      <th>9</th>\n",
       "      <td>250.0</td>\n",
       "      <td>1.284815</td>\n",
       "      <td>17.309147</td>\n",
       "    </tr>\n",
       "    <tr>\n",
       "      <th>10</th>\n",
       "      <td>255.0</td>\n",
       "      <td>0.832822</td>\n",
       "      <td>21.857154</td>\n",
       "    </tr>\n",
       "  </tbody>\n",
       "</table>\n",
       "</div>"
      ],
      "text/plain": [
       "    Strike      $Call       $Put\n",
       "0    205.0  28.975668   0.000000\n",
       "1    210.0  24.030382   0.054714\n",
       "2    215.0  19.303950   0.328282\n",
       "3    220.0  14.796476   0.820808\n",
       "4    225.0  11.164835   2.189167\n",
       "5    230.0   7.790700   3.815032\n",
       "6    235.0   5.446583   6.470915\n",
       "7    240.0   3.351682   9.376014\n",
       "8    245.0   2.253644  13.277976\n",
       "9    250.0   1.284815  17.309147\n",
       "10   255.0   0.832822  21.857154"
      ]
     },
     "execution_count": 15,
     "metadata": {},
     "output_type": "execute_result"
    }
   ],
   "source": [
    "call_prices = call_payoff_matrix @ normalized_state_prices\n",
    "put_prices = put_payoff_matrix @ normalized_state_prices\n",
    "\n",
    "call_prices = pd.DataFrame({\n",
    "    'Strike': chosen_strikes,\n",
    "    '$Call': call_prices,\n",
    "    '$Put': put_prices\n",
    "})\n",
    "call_prices\n"
   ]
  },
  {
   "cell_type": "code",
   "execution_count": 16,
   "id": "bac73406-df74-469c-870e-e93a63c37082",
   "metadata": {},
   "outputs": [
    {
     "name": "stdout",
     "output_type": "stream",
     "text": [
      "[0.         0.         0.         0.04947241 0.19798362 0.23283756\n",
      " 0.22534266 0.11683164 0.06043467 0.         0.02130437]\n"
     ]
    }
   ],
   "source": [
    "print(state_prices)"
   ]
  },
  {
   "cell_type": "code",
   "execution_count": null,
   "id": "fee0199c-a243-4c3e-b965-68ad97ae66c7",
   "metadata": {},
   "outputs": [],
   "source": []
  }
 ],
 "metadata": {
  "kernelspec": {
   "display_name": "base",
   "language": "python",
   "name": "python3"
  },
  "language_info": {
   "codemirror_mode": {
    "name": "ipython",
    "version": 3
   },
   "file_extension": ".py",
   "mimetype": "text/x-python",
   "name": "python",
   "nbconvert_exporter": "python",
   "pygments_lexer": "ipython3",
   "version": "3.12.7"
  }
 },
 "nbformat": 4,
 "nbformat_minor": 5
}
