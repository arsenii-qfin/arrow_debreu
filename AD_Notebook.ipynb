{
 "cells": [
  {
   "cell_type": "markdown",
   "id": "c751934f-0d74-4ea9-acd5-f5581d53b09a",
   "metadata": {},
   "source": [
    "# $\\text{Arrow Debreu European Option Pricing}$"
   ]
  },
  {
   "cell_type": "code",
   "execution_count": 3,
   "id": "4a716512-a3b1-4db2-a29e-69f308e5f1cd",
   "metadata": {},
   "outputs": [],
   "source": [
    "import yfinance as yf\n",
    "import numpy as np\n",
    "import pandas as pd\n",
    "import matplotlib.pyplot as plt\n",
    "from scipy.optimize import nnls"
   ]
  },
  {
   "cell_type": "code",
   "execution_count": 4,
   "id": "c02536d0-7501-4623-be60-6b8c17af31d8",
   "metadata": {},
   "outputs": [
    {
     "name": "stdout",
     "output_type": "stream",
     "text": [
      "Using Expiry: 2025-09-05\n"
     ]
    }
   ],
   "source": [
    "ticker = 'AAPL'\n",
    "ticker_data = yf.Ticker(ticker)\n",
    "expiry = ticker_data.options[4]\n",
    "print('Using Expiry:', expiry)\n",
    "chain = ticker_data.option_chain(expiry)\n",
    "calls = chain.calls #the pricing will be based just on calls "
   ]
  },
  {
   "cell_type": "code",
   "execution_count": 5,
   "id": "2e2f2111-aebf-480a-9f6a-838717b17073",
   "metadata": {},
   "outputs": [
    {
     "name": "stdout",
     "output_type": "stream",
     "text": [
      "Using Spot: 213.25\n",
      "Will be pricing options for the following spot prices: [163 173 183 193 203 213 223 233 243 253 263] expiring on 2025-09-05\n"
     ]
    }
   ],
   "source": [
    "spot = ticker_data.history(period='1d')['Close'].iloc[-1]\n",
    "possible_states = np.linspace(spot - 50, spot + 50, 11, dtype=int)\n",
    "print('Using Spot:', spot)\n",
    "print(f'Will be pricing options for the following spot prices: {possible_states} expiring on {expiry}')"
   ]
  },
  {
   "cell_type": "code",
   "execution_count": 6,
   "id": "17ef410d-4e6e-4bbf-a090-9e0c293c0982",
   "metadata": {},
   "outputs": [
    {
     "name": "stdout",
     "output_type": "stream",
     "text": [
      "Available Strikes:\n",
      " [140.0, 150.0, 155.0, 165.0, 175.0, 180.0, 185.0, 190.0, 195.0, 200.0, 205.0, 210.0, 215.0, 220.0, 225.0, 230.0, 235.0, 240.0, 245.0, 250.0, 255.0, 260.0, 265.0, 270.0, 275.0, 280.0, 285.0, 300.0]\n"
     ]
    }
   ],
   "source": [
    "available_strikes = sorted(calls[\"strike\"])\n",
    "print('Available Strikes:\\n', available_strikes)"
   ]
  },
  {
   "cell_type": "code",
   "execution_count": 7,
   "id": "d2d1b3e3-9aee-472b-b296-1dd335c3c37d",
   "metadata": {},
   "outputs": [
    {
     "name": "stdout",
     "output_type": "stream",
     "text": [
      "Index of the closest strike price to the spot price: 12\n"
     ]
    }
   ],
   "source": [
    "atm_index = min(range(len(available_strikes)), key=lambda i: abs(available_strikes[i] - spot))\n",
    "print('Index of the closest strike price to the spot price:', atm_index)"
   ]
  },
  {
   "cell_type": "code",
   "execution_count": 8,
   "id": "5300c1bd-a4e0-46a1-ab33-429ad0a0f4e3",
   "metadata": {},
   "outputs": [
    {
     "name": "stdout",
     "output_type": "stream",
     "text": [
      "Lower index bound: 7\n",
      " Upper undex bound: 18\n"
     ]
    }
   ],
   "source": [
    "lower_bound = max(atm_index - 5, 0)\n",
    "upper_bound = min(atm_index + 6, len(available_strikes))\n",
    "print(f'Lower index bound: {lower_bound}\\n', f'Upper undex bound: {upper_bound}')"
   ]
  },
  {
   "cell_type": "code",
   "execution_count": 9,
   "id": "95a217cb-b976-4aa0-86f6-a8f2931c0ecc",
   "metadata": {},
   "outputs": [
    {
     "name": "stdout",
     "output_type": "stream",
     "text": [
      "Selected 11 strikes around ATM: \n",
      " [190.0, 195.0, 200.0, 205.0, 210.0, 215.0, 220.0, 225.0, 230.0, 235.0, 240.0]\n"
     ]
    }
   ],
   "source": [
    "chosen_strikes = available_strikes[lower_bound:upper_bound]\n",
    "chosen_strikes = np.array(chosen_strikes)\n",
    "print(f'Selected {len(chosen_strikes)} strikes around ATM:', '\\n', sorted(chosen_strikes))"
   ]
  },
  {
   "cell_type": "code",
   "execution_count": 10,
   "id": "439f8aee-2996-4461-915c-2ff73ca1a97d",
   "metadata": {},
   "outputs": [
    {
     "data": {
      "text/html": [
       "<div>\n",
       "<style scoped>\n",
       "    .dataframe tbody tr th:only-of-type {\n",
       "        vertical-align: middle;\n",
       "    }\n",
       "\n",
       "    .dataframe tbody tr th {\n",
       "        vertical-align: top;\n",
       "    }\n",
       "\n",
       "    .dataframe thead th {\n",
       "        text-align: right;\n",
       "    }\n",
       "</style>\n",
       "<table border=\"1\" class=\"dataframe\">\n",
       "  <thead>\n",
       "    <tr style=\"text-align: right;\">\n",
       "      <th></th>\n",
       "      <th>strike</th>\n",
       "      <th>bid</th>\n",
       "      <th>ask</th>\n",
       "    </tr>\n",
       "  </thead>\n",
       "  <tbody>\n",
       "    <tr>\n",
       "      <th>0</th>\n",
       "      <td>190.0</td>\n",
       "      <td>0.0</td>\n",
       "      <td>0.0</td>\n",
       "    </tr>\n",
       "    <tr>\n",
       "      <th>1</th>\n",
       "      <td>195.0</td>\n",
       "      <td>0.0</td>\n",
       "      <td>0.0</td>\n",
       "    </tr>\n",
       "    <tr>\n",
       "      <th>2</th>\n",
       "      <td>200.0</td>\n",
       "      <td>0.0</td>\n",
       "      <td>0.0</td>\n",
       "    </tr>\n",
       "    <tr>\n",
       "      <th>3</th>\n",
       "      <td>205.0</td>\n",
       "      <td>0.0</td>\n",
       "      <td>0.0</td>\n",
       "    </tr>\n",
       "    <tr>\n",
       "      <th>4</th>\n",
       "      <td>210.0</td>\n",
       "      <td>0.0</td>\n",
       "      <td>0.0</td>\n",
       "    </tr>\n",
       "  </tbody>\n",
       "</table>\n",
       "</div>"
      ],
      "text/plain": [
       "   strike  bid  ask\n",
       "0   190.0  0.0  0.0\n",
       "1   195.0  0.0  0.0\n",
       "2   200.0  0.0  0.0\n",
       "3   205.0  0.0  0.0\n",
       "4   210.0  0.0  0.0"
      ]
     },
     "execution_count": 10,
     "metadata": {},
     "output_type": "execute_result"
    }
   ],
   "source": [
    "chosen_calls = calls[calls['strike'].isin(chosen_strikes)].copy().reset_index(drop=True)\n",
    "chosen_calls = chosen_calls[['strike', 'bid', 'ask']]\n",
    "chosen_calls.head()"
   ]
  },
  {
   "cell_type": "code",
   "execution_count": 11,
   "id": "405f741e-0d74-4d53-aa10-da8c74881838",
   "metadata": {},
   "outputs": [
    {
     "data": {
      "text/html": [
       "<div>\n",
       "<style scoped>\n",
       "    .dataframe tbody tr th:only-of-type {\n",
       "        vertical-align: middle;\n",
       "    }\n",
       "\n",
       "    .dataframe tbody tr th {\n",
       "        vertical-align: top;\n",
       "    }\n",
       "\n",
       "    .dataframe thead th {\n",
       "        text-align: right;\n",
       "    }\n",
       "</style>\n",
       "<table border=\"1\" class=\"dataframe\">\n",
       "  <thead>\n",
       "    <tr style=\"text-align: right;\">\n",
       "      <th></th>\n",
       "      <th>strike</th>\n",
       "      <th>price_vector</th>\n",
       "    </tr>\n",
       "  </thead>\n",
       "  <tbody>\n",
       "    <tr>\n",
       "      <th>0</th>\n",
       "      <td>190.0</td>\n",
       "      <td>0.0</td>\n",
       "    </tr>\n",
       "    <tr>\n",
       "      <th>1</th>\n",
       "      <td>195.0</td>\n",
       "      <td>0.0</td>\n",
       "    </tr>\n",
       "    <tr>\n",
       "      <th>2</th>\n",
       "      <td>200.0</td>\n",
       "      <td>0.0</td>\n",
       "    </tr>\n",
       "    <tr>\n",
       "      <th>3</th>\n",
       "      <td>205.0</td>\n",
       "      <td>0.0</td>\n",
       "    </tr>\n",
       "    <tr>\n",
       "      <th>4</th>\n",
       "      <td>210.0</td>\n",
       "      <td>0.0</td>\n",
       "    </tr>\n",
       "  </tbody>\n",
       "</table>\n",
       "</div>"
      ],
      "text/plain": [
       "   strike  price_vector\n",
       "0   190.0           0.0\n",
       "1   195.0           0.0\n",
       "2   200.0           0.0\n",
       "3   205.0           0.0\n",
       "4   210.0           0.0"
      ]
     },
     "execution_count": 11,
     "metadata": {},
     "output_type": "execute_result"
    }
   ],
   "source": [
    "chosen_calls['price_vector'] = (chosen_calls['bid']+chosen_calls['ask'])/2\n",
    "chosen_calls = chosen_calls[['strike', 'price_vector']]\n",
    "chosen_calls.head()"
   ]
  },
  {
   "cell_type": "code",
   "execution_count": 12,
   "id": "0db80000-7ca4-4843-b629-b7e44ff9e6dd",
   "metadata": {},
   "outputs": [
    {
     "name": "stdout",
     "output_type": "stream",
     "text": [
      "[190. 195. 200. 205. 210. 215. 220. 225. 230. 235. 240.]\n",
      "[0. 0. 0. 0. 0. 0. 0. 0. 0. 0. 0.]\n"
     ]
    }
   ],
   "source": [
    "strikes = chosen_calls[\"strike\"].values\n",
    "price_vector = chosen_calls[\"price_vector\"].values\n",
    "print(strikes)\n",
    "print(price_vector)"
   ]
  },
  {
   "cell_type": "code",
   "execution_count": 13,
   "id": "282eb7b5-a455-49cf-9ee2-d987b0178537",
   "metadata": {},
   "outputs": [
    {
     "name": "stdout",
     "output_type": "stream",
     "text": [
      "Call payoff matrix piece:\n",
      " [[ 0.  0.  0.  3. 13.]\n",
      " [ 0.  0.  0.  0.  8.]\n",
      " [ 0.  0.  0.  0.  3.]\n",
      " [ 0.  0.  0.  0.  0.]\n",
      " [ 0.  0.  0.  0.  0.]]\n",
      " Put payoff matrix piece\n",
      " [[27. 17.  7.  0.  0.]\n",
      " [32. 22. 12.  2.  0.]\n",
      " [37. 27. 17.  7.  0.]\n",
      " [42. 32. 22. 12.  2.]\n",
      " [47. 37. 27. 17.  7.]]\n",
      " Payoff matrices shape: (11, 11)\n"
     ]
    }
   ],
   "source": [
    "terminal_prices = strikes.copy()\n",
    "call_payoff_matrix = np.maximum(possible_states - chosen_strikes[:, None], 0)\n",
    "put_payoff_matrix  = np.maximum(chosen_strikes[:, None] - possible_states, 0)\n",
    "print(f'Call payoff matrix piece:\\n {call_payoff_matrix[:5,:5]}\\n Put payoff matrix piece\\n {put_payoff_matrix[:5,:5]}\\n Payoff matrices shape: {call_payoff_matrix.shape}')\n"
   ]
  },
  {
   "cell_type": "code",
   "execution_count": 14,
   "id": "90cc450f-0809-4b2b-b8e0-0cbd900d1ef2",
   "metadata": {},
   "outputs": [
    {
     "name": "stderr",
     "output_type": "stream",
     "text": [
      "/var/folders/1w/t9ll1lr96djf5mqhmd8k_1p80000gn/T/ipykernel_11491/169700691.py:3: RuntimeWarning: invalid value encountered in divide\n",
      "  normalized_state_prices = state_prices/np.sum(state_prices)\n"
     ]
    }
   ],
   "source": [
    "#state_prices, _, _, _ = np.linalg.lstsq(call_payoff_matrix, price_vector, rcond=None)\n",
    "state_prices, _ = nnls(call_payoff_matrix, price_vector)\n",
    "normalized_state_prices = state_prices/np.sum(state_prices)\n",
    "\n",
    "r=0.0416\n",
    "T=30/365\n",
    "probabilities = state_prices * np.e**(r*T)"
   ]
  },
  {
   "cell_type": "code",
   "execution_count": 15,
   "id": "f6f0b01d-d5fa-42fb-b699-96f5ca439640",
   "metadata": {},
   "outputs": [],
   "source": [
    "#'p.s. \"np.linalg.lstsq\" was resulting in some values being negative so I had to use \"scipy.optimize.nnls\" i.e non-negative least squares.')"
   ]
  },
  {
   "cell_type": "code",
   "execution_count": 16,
   "id": "10f1f963-93e2-4c54-9230-54c0cfd92cee",
   "metadata": {},
   "outputs": [
    {
     "data": {
      "image/png": "[encoded data removed]",
      "text/plain": [
       "<Figure size 1000x500 with 1 Axes>"
      ]
     },
     "metadata": {},
     "output_type": "display_data"
    }
   ],
   "source": [
    "plt.figure(figsize=(10, 5))\n",
    "plt.plot(terminal_prices, normalized_state_prices, marker='o')\n",
    "plt.xlabel('Terminal Price (Strike)')\n",
    "plt.ylabel('State Prices')\n",
    "plt.grid(True)\n",
    "plt.show()"
   ]
  },
  {
   "cell_type": "code",
   "execution_count": 17,
   "id": "52e0ef5d-eeca-4217-b203-d5c958a12bcb",
   "metadata": {},
   "outputs": [
    {
     "data": {
      "text/html": [
       "<div>\n",
       "<style scoped>\n",
       "    .dataframe tbody tr th:only-of-type {\n",
       "        vertical-align: middle;\n",
       "    }\n",
       "\n",
       "    .dataframe tbody tr th {\n",
       "        vertical-align: top;\n",
       "    }\n",
       "\n",
       "    .dataframe thead th {\n",
       "        text-align: right;\n",
       "    }\n",
       "</style>\n",
       "<table border=\"1\" class=\"dataframe\">\n",
       "  <thead>\n",
       "    <tr style=\"text-align: right;\">\n",
       "      <th></th>\n",
       "      <th>Strike</th>\n",
       "      <th>$Call</th>\n",
       "      <th>$Put</th>\n",
       "    </tr>\n",
       "  </thead>\n",
       "  <tbody>\n",
       "    <tr>\n",
       "      <th>0</th>\n",
       "      <td>190.0</td>\n",
       "      <td>NaN</td>\n",
       "      <td>NaN</td>\n",
       "    </tr>\n",
       "    <tr>\n",
       "      <th>1</th>\n",
       "      <td>195.0</td>\n",
       "      <td>NaN</td>\n",
       "      <td>NaN</td>\n",
       "    </tr>\n",
       "    <tr>\n",
       "      <th>2</th>\n",
       "      <td>200.0</td>\n",
       "      <td>NaN</td>\n",
       "      <td>NaN</td>\n",
       "    </tr>\n",
       "    <tr>\n",
       "      <th>3</th>\n",
       "      <td>205.0</td>\n",
       "      <td>NaN</td>\n",
       "      <td>NaN</td>\n",
       "    </tr>\n",
       "    <tr>\n",
       "      <th>4</th>\n",
       "      <td>210.0</td>\n",
       "      <td>NaN</td>\n",
       "      <td>NaN</td>\n",
       "    </tr>\n",
       "    <tr>\n",
       "      <th>5</th>\n",
       "      <td>215.0</td>\n",
       "      <td>NaN</td>\n",
       "      <td>NaN</td>\n",
       "    </tr>\n",
       "    <tr>\n",
       "      <th>6</th>\n",
       "      <td>220.0</td>\n",
       "      <td>NaN</td>\n",
       "      <td>NaN</td>\n",
       "    </tr>\n",
       "    <tr>\n",
       "      <th>7</th>\n",
       "      <td>225.0</td>\n",
       "      <td>NaN</td>\n",
       "      <td>NaN</td>\n",
       "    </tr>\n",
       "    <tr>\n",
       "      <th>8</th>\n",
       "      <td>230.0</td>\n",
       "      <td>NaN</td>\n",
       "      <td>NaN</td>\n",
       "    </tr>\n",
       "    <tr>\n",
       "      <th>9</th>\n",
       "      <td>235.0</td>\n",
       "      <td>NaN</td>\n",
       "      <td>NaN</td>\n",
       "    </tr>\n",
       "    <tr>\n",
       "      <th>10</th>\n",
       "      <td>240.0</td>\n",
       "      <td>NaN</td>\n",
       "      <td>NaN</td>\n",
       "    </tr>\n",
       "  </tbody>\n",
       "</table>\n",
       "</div>"
      ],
      "text/plain": [
       "    Strike  $Call  $Put\n",
       "0    190.0    NaN   NaN\n",
       "1    195.0    NaN   NaN\n",
       "2    200.0    NaN   NaN\n",
       "3    205.0    NaN   NaN\n",
       "4    210.0    NaN   NaN\n",
       "5    215.0    NaN   NaN\n",
       "6    220.0    NaN   NaN\n",
       "7    225.0    NaN   NaN\n",
       "8    230.0    NaN   NaN\n",
       "9    235.0    NaN   NaN\n",
       "10   240.0    NaN   NaN"
      ]
     },
     "execution_count": 17,
     "metadata": {},
     "output_type": "execute_result"
    }
   ],
   "source": [
    "call_prices = call_payoff_matrix @ normalized_state_prices\n",
    "put_prices = put_payoff_matrix @ normalized_state_prices\n",
    "\n",
    "call_prices = pd.DataFrame({\n",
    "    'Strike': chosen_strikes,\n",
    "    '$Call': call_prices,\n",
    "    '$Put': put_prices\n",
    "})\n",
    "call_prices\n"
   ]
  },
  {
   "cell_type": "code",
   "execution_count": 36,
   "id": "bac73406-df74-469c-870e-e93a63c37082",
   "metadata": {},
   "outputs": [
    {
     "name": "stdout",
     "output_type": "stream",
     "text": [
      "[0. 0. 0. 0. 0. 0. 0. 0. 0. 0. 0.]\n"
     ]
    }
   ],
   "source": [
    "print(state_prices)"
   ]
  },
  {
   "cell_type": "code",
   "execution_count": null,
   "id": "fee0199c-a243-4c3e-b965-68ad97ae66c7",
   "metadata": {},
   "outputs": [],
   "source": []
  }
 ],
 "metadata": {
  "kernelspec": {
   "display_name": "Python [conda env:base] *",
   "language": "python",
   "name": "conda-base-py"
  },
  "language_info": {
   "codemirror_mode": {
    "name": "ipython",
    "version": 3
   },
   "file_extension": ".py",
   "mimetype": "text/x-python",
   "name": "python",
   "nbconvert_exporter": "python",
   "pygments_lexer": "ipython3",
   "version": "3.12.7"
  }
 },
 "nbformat": 4,
 "nbformat_minor": 5
}
