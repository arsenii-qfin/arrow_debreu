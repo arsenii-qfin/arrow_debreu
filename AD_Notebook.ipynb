{
 "cells": [
  {
   "cell_type": "markdown",
   "id": "c751934f-0d74-4ea9-acd5-f5581d53b09a",
   "metadata": {},
   "source": [
    "# $\\text{Arrow Debreu European Option Solver}$"
   ]
  },
  {
   "cell_type": "code",
   "execution_count": 2,
   "id": "4a716512-a3b1-4db2-a29e-69f308e5f1cd",
   "metadata": {},
   "outputs": [],
   "source": [
    "import yfinance as yf\n",
    "import numpy as np\n",
    "import pandas as pd\n",
    "import matplotlib.pyplot as plt\n",
    "from scipy.optimize import nnls"
   ]
  },
  {
   "cell_type": "code",
   "execution_count": 16,
   "id": "c02536d0-7501-4623-be60-6b8c17af31d8",
   "metadata": {},
   "outputs": [
    {
     "name": "stdout",
     "output_type": "stream",
     "text": [
      "The following are the available expiration dates:\n",
      "\n",
      "('2025-07-11', '2025-07-18', '2025-07-25', '2025-08-01', '2025-08-08', '2025-08-15', '2025-08-22', '2025-09-19', '2025-10-17', '2025-11-21', '2025-12-19', '2026-01-16', '2026-02-20', '2026-03-20', '2026-05-15', '2026-06-18', '2026-09-18', '2026-12-18', '2027-01-15', '2027-06-17', '2027-12-17')\n",
      "\n",
      "Using Expiry: 2025-08-08\n"
     ]
    }
   ],
   "source": [
    "ticker = 'AAPL' #<-- may enter a differnt ticker\n",
    "ticker_data = yf.Ticker(ticker)\n",
    "expiry = ticker_data.options[4] #<-- the grater the index the longer until expiry\n",
    "print(f'The following are the available expiration dates:\\n\\n{ticker_data.options}\\n')\n",
    "print('Using Expiry:', expiry)\n",
    "chain = ticker_data.option_chain(expiry)\n",
    "calls = chain.calls"
   ]
  },
  {
   "cell_type": "code",
   "execution_count": 21,
   "id": "2e2f2111-aebf-480a-9f6a-838717b17073",
   "metadata": {},
   "outputs": [
    {
     "name": "stdout",
     "output_type": "stream",
     "text": [
      "Using Spot: 209.9499969482422 \n",
      "\n",
      "Will be pricing options for the following spot prices: [159 164 169 174 179 184 189 194 199 204 209 214 219 224 229 234 239 244\n",
      " 249 254 259] expiring on 2025-08-08\n"
     ]
    }
   ],
   "source": [
    "#gets the latest spot and computes the states for payoff matrix columns\n",
    "spot = ticker_data.history(period='1d')['Close'].iloc[-1]\n",
    "possible_states = np.linspace( spot - 50, spot + 50, 21, dtype=int)\n",
    "print('Using Spot:', spot, '\\n')\n",
    "print(f'Will be pricing options for the following spot prices: {possible_states} expiring on {expiry}')\n"
   ]
  },
  {
   "cell_type": "code",
   "execution_count": 35,
   "id": "17ef410d-4e6e-4bbf-a090-9e0c293c0982",
   "metadata": {},
   "outputs": [
    {
     "name": "stdout",
     "output_type": "stream",
     "text": [
      "Available Strikes:\n",
      "\n",
      " [140, 145, 160, 165, 170, 175, 180, 185, 190, 195, 200, 205, 210, 215, 220, 225, 230, 235, 240, 245, 250, 255, 260, 265, 270, 280, 290, 295, 300, 325]\n"
     ]
    }
   ],
   "source": [
    "available_strikes = sorted(calls[\"strike\"])\n",
    "available_strikes = [int(i) for i in available_strikes]\n",
    "for i in available_strikes:\n",
    "    int(i)\n",
    "print('Available Strikes:\\n\\n', available_strikes)"
   ]
  },
  {
   "cell_type": "code",
   "execution_count": 40,
   "id": "d2d1b3e3-9aee-472b-b296-1dd335c3c37d",
   "metadata": {},
   "outputs": [
    {
     "name": "stdout",
     "output_type": "stream",
     "text": [
      "Selected 21 strikes around ATM: \n",
      "\n",
      " [160 165 170 175 180 185 190 195 200 205 210 215 220 225 230 235 240 245\n",
      " 250 255 260]\n"
     ]
    }
   ],
   "source": [
    "atm_index = min(range(len(available_strikes)), key=lambda i: abs(available_strikes[i] - spot))\n",
    "lower_bound = max(atm_index - 10, 0)\n",
    "upper_bound = min(atm_index + 11, len(available_strikes))\n",
    "chosen_strikes = available_strikes[lower_bound:upper_bound]\n",
    "chosen_strikes = np.array(chosen_strikes)\n",
    "print(f'Selected {len(chosen_strikes)} strikes around ATM:', '\\n\\n', chosen_strikes)"
   ]
  },
  {
   "cell_type": "code",
   "execution_count": 46,
   "id": "439f8aee-2996-4461-915c-2ff73ca1a97d",
   "metadata": {},
   "outputs": [
    {
     "data": {
      "text/html": [
       "<div>\n",
       "<style scoped>\n",
       "    .dataframe tbody tr th:only-of-type {\n",
       "        vertical-align: middle;\n",
       "    }\n",
       "\n",
       "    .dataframe tbody tr th {\n",
       "        vertical-align: top;\n",
       "    }\n",
       "\n",
       "    .dataframe thead th {\n",
       "        text-align: right;\n",
       "    }\n",
       "</style>\n",
       "<table border=\"1\" class=\"dataframe\">\n",
       "  <thead>\n",
       "    <tr style=\"text-align: right;\">\n",
       "      <th></th>\n",
       "      <th>strike</th>\n",
       "      <th>bid</th>\n",
       "      <th>ask</th>\n",
       "    </tr>\n",
       "  </thead>\n",
       "  <tbody>\n",
       "    <tr>\n",
       "      <th>0</th>\n",
       "      <td>160.0</td>\n",
       "      <td>50.40</td>\n",
       "      <td>51.20</td>\n",
       "    </tr>\n",
       "    <tr>\n",
       "      <th>1</th>\n",
       "      <td>165.0</td>\n",
       "      <td>45.25</td>\n",
       "      <td>46.25</td>\n",
       "    </tr>\n",
       "    <tr>\n",
       "      <th>2</th>\n",
       "      <td>170.0</td>\n",
       "      <td>40.30</td>\n",
       "      <td>41.50</td>\n",
       "    </tr>\n",
       "    <tr>\n",
       "      <th>3</th>\n",
       "      <td>175.0</td>\n",
       "      <td>35.50</td>\n",
       "      <td>36.60</td>\n",
       "    </tr>\n",
       "    <tr>\n",
       "      <th>4</th>\n",
       "      <td>180.0</td>\n",
       "      <td>31.10</td>\n",
       "      <td>31.70</td>\n",
       "    </tr>\n",
       "  </tbody>\n",
       "</table>\n",
       "</div>"
      ],
      "text/plain": [
       "   strike    bid    ask\n",
       "0   160.0  50.40  51.20\n",
       "1   165.0  45.25  46.25\n",
       "2   170.0  40.30  41.50\n",
       "3   175.0  35.50  36.60\n",
       "4   180.0  31.10  31.70"
      ]
     },
     "execution_count": 46,
     "metadata": {},
     "output_type": "execute_result"
    }
   ],
   "source": [
    "chosen_calls = calls[calls['strike'].isin(chosen_strikes)].copy().reset_index(drop=True)\n",
    "chosen_calls = chosen_calls[['strike', 'bid', 'ask']]\n",
    "chosen_calls.head()"
   ]
  },
  {
   "cell_type": "code",
   "execution_count": 47,
   "id": "405f741e-0d74-4d53-aa10-da8c74881838",
   "metadata": {},
   "outputs": [
    {
     "data": {
      "text/html": [
       "<div>\n",
       "<style scoped>\n",
       "    .dataframe tbody tr th:only-of-type {\n",
       "        vertical-align: middle;\n",
       "    }\n",
       "\n",
       "    .dataframe tbody tr th {\n",
       "        vertical-align: top;\n",
       "    }\n",
       "\n",
       "    .dataframe thead th {\n",
       "        text-align: right;\n",
       "    }\n",
       "</style>\n",
       "<table border=\"1\" class=\"dataframe\">\n",
       "  <thead>\n",
       "    <tr style=\"text-align: right;\">\n",
       "      <th></th>\n",
       "      <th>strike</th>\n",
       "      <th>price_vector</th>\n",
       "    </tr>\n",
       "  </thead>\n",
       "  <tbody>\n",
       "    <tr>\n",
       "      <th>0</th>\n",
       "      <td>160.0</td>\n",
       "      <td>50.80</td>\n",
       "    </tr>\n",
       "    <tr>\n",
       "      <th>1</th>\n",
       "      <td>165.0</td>\n",
       "      <td>45.75</td>\n",
       "    </tr>\n",
       "    <tr>\n",
       "      <th>2</th>\n",
       "      <td>170.0</td>\n",
       "      <td>40.90</td>\n",
       "    </tr>\n",
       "    <tr>\n",
       "      <th>3</th>\n",
       "      <td>175.0</td>\n",
       "      <td>36.05</td>\n",
       "    </tr>\n",
       "    <tr>\n",
       "      <th>4</th>\n",
       "      <td>180.0</td>\n",
       "      <td>31.40</td>\n",
       "    </tr>\n",
       "  </tbody>\n",
       "</table>\n",
       "</div>"
      ],
      "text/plain": [
       "   strike  price_vector\n",
       "0   160.0         50.80\n",
       "1   165.0         45.75\n",
       "2   170.0         40.90\n",
       "3   175.0         36.05\n",
       "4   180.0         31.40"
      ]
     },
     "execution_count": 47,
     "metadata": {},
     "output_type": "execute_result"
    }
   ],
   "source": [
    "chosen_calls['price_vector'] = (chosen_calls['bid']+chosen_calls['ask'])/2\n",
    "chosen_calls = chosen_calls[['strike', 'price_vector']]\n",
    "chosen_calls.head()"
   ]
  },
  {
   "cell_type": "code",
   "execution_count": 56,
   "id": "0db80000-7ca4-4843-b629-b7e44ff9e6dd",
   "metadata": {},
   "outputs": [
    {
     "name": "stdout",
     "output_type": "stream",
     "text": [
      "Strikes:\n",
      "\n",
      "[160. 165. 170. 175. 180. 185. 190. 195. 200. 205. 210. 215. 220. 225.\n",
      " 230. 235. 240. 245. 250. 255. 260.] \n",
      "\n",
      "Prices:\n",
      "\n",
      " [50.8   45.75  40.9   36.05  31.4   26.825 22.375 18.1   14.35  10.9\n",
      "  7.95   5.525  3.6    2.27   1.405  0.84   0.525  0.35   0.235  0.165\n",
      "  0.125]\n"
     ]
    }
   ],
   "source": [
    "strikes = chosen_calls[\"strike\"].values\n",
    "price_vector = chosen_calls[\"price_vector\"].values\n",
    "print(f'Strikes:\\n\\n{strikes}', f'\\n\\nPrices:\\n\\n {price_vector}')"
   ]
  },
  {
   "cell_type": "code",
   "execution_count": 67,
   "id": "282eb7b5-a455-49cf-9ee2-d987b0178537",
   "metadata": {},
   "outputs": [
    {
     "name": "stdout",
     "output_type": "stream",
     "text": [
      "Call payoff matrix F:\n",
      "\n",
      " [[ 0  4  9 14 19 24 29 34 39 44 49 54 59 64 69 74 79 84 89 94 99]\n",
      " [ 0  0  4  9 14 19 24 29 34 39 44 49 54 59 64 69 74 79 84 89 94]\n",
      " [ 0  0  0  4  9 14 19 24 29 34 39 44 49 54 59 64 69 74 79 84 89]\n",
      " [ 0  0  0  0  4  9 14 19 24 29 34 39 44 49 54 59 64 69 74 79 84]\n",
      " [ 0  0  0  0  0  4  9 14 19 24 29 34 39 44 49 54 59 64 69 74 79]\n",
      " [ 0  0  0  0  0  0  4  9 14 19 24 29 34 39 44 49 54 59 64 69 74]\n",
      " [ 0  0  0  0  0  0  0  4  9 14 19 24 29 34 39 44 49 54 59 64 69]\n",
      " [ 0  0  0  0  0  0  0  0  4  9 14 19 24 29 34 39 44 49 54 59 64]\n",
      " [ 0  0  0  0  0  0  0  0  0  4  9 14 19 24 29 34 39 44 49 54 59]\n",
      " [ 0  0  0  0  0  0  0  0  0  0  4  9 14 19 24 29 34 39 44 49 54]\n",
      " [ 0  0  0  0  0  0  0  0  0  0  0  4  9 14 19 24 29 34 39 44 49]\n",
      " [ 0  0  0  0  0  0  0  0  0  0  0  0  4  9 14 19 24 29 34 39 44]\n",
      " [ 0  0  0  0  0  0  0  0  0  0  0  0  0  4  9 14 19 24 29 34 39]\n",
      " [ 0  0  0  0  0  0  0  0  0  0  0  0  0  0  4  9 14 19 24 29 34]\n",
      " [ 0  0  0  0  0  0  0  0  0  0  0  0  0  0  0  4  9 14 19 24 29]\n",
      " [ 0  0  0  0  0  0  0  0  0  0  0  0  0  0  0  0  4  9 14 19 24]\n",
      " [ 0  0  0  0  0  0  0  0  0  0  0  0  0  0  0  0  0  4  9 14 19]\n",
      " [ 0  0  0  0  0  0  0  0  0  0  0  0  0  0  0  0  0  0  4  9 14]\n",
      " [ 0  0  0  0  0  0  0  0  0  0  0  0  0  0  0  0  0  0  0  4  9]\n",
      " [ 0  0  0  0  0  0  0  0  0  0  0  0  0  0  0  0  0  0  0  0  4]\n",
      " [ 0  0  0  0  0  0  0  0  0  0  0  0  0  0  0  0  0  0  0  0  0]]\n"
     ]
    }
   ],
   "source": [
    "terminal_prices = strikes.copy()\n",
    "call_payoff_matrix = np.maximum(possible_states - chosen_strikes[:, None], 0)\n",
    "print(f'Call payoff matrix F:\\n\\n {call_payoff_matrix}')\n"
   ]
  },
  {
   "cell_type": "code",
   "execution_count": 84,
   "id": "4a2cff6c-c73a-4d38-8bed-d6278ad2f09e",
   "metadata": {},
   "outputs": [],
   "source": [
    "state_prices, _ = nnls(call_payoff_matrix, price_vector)\n",
    "\n",
    "rf = yf.Ticker('^IRX')\n",
    "rf = rf.history(period='1d')\n",
    "rf = rf['Close'].iloc[-1] / 100\n",
    "T=30/365 #<-- we discount about 1 month back\n",
    "probabilities = state_prices * np.exp(rf*T)\n",
    "normalized_probabilities = probabilities / np.sum(probabilities)"
   ]
  },
  {
   "cell_type": "code",
   "execution_count": 90,
   "id": "f6f0b01d-d5fa-42fb-b699-96f5ca439640",
   "metadata": {},
   "outputs": [
    {
     "name": "stdout",
     "output_type": "stream",
     "text": [
      "Normalized Induced Probabilities:\n",
      "\n",
      "[0.         0.04346052 0.         0.03766848 0.01508444 0.02637488\n",
      " 0.01406376 0.11650491 0.0496152  0.09635482 0.10584256 0.09247121\n",
      " 0.12138891 0.09906129 0.06064014 0.05220421 0.03682044 0.00670682\n",
      " 0.         0.         0.02573742]\n",
      "\n",
      " p.s. \"np.linalg.lstsq\" was resulting in some values being negative so I had to use \"scipy.optimize.nnls\" i.e non-negative least squares.\n"
     ]
    }
   ],
   "source": [
    "print(f'Normalized Induced Probabilities:\\n\\n{normalized_probabilities}\\n\\n p.s. \"np.linalg.lstsq\" was resulting in some values being negative so I had to use \"scipy.optimize.nnls\" i.e non-negative least squares.')"
   ]
  },
  {
   "cell_type": "code",
   "execution_count": 93,
   "id": "10f1f963-93e2-4c54-9230-54c0cfd92cee",
   "metadata": {},
   "outputs": [
    {
     "data": {
      "image/png": "[encoded data removed]",
      "text/plain": [
       "<Figure size 1000x500 with 1 Axes>"
      ]
     },
     "metadata": {},
     "output_type": "display_data"
    }
   ],
   "source": [
    "plt.figure(figsize=(10, 5))\n",
    "plt.plot(terminal_prices, state_prices, marker='o')\n",
    "plt.xlabel('Terminal Price (Strike)')\n",
    "plt.ylabel('State Prices')\n",
    "plt.grid(True)\n",
    "plt.show()"
   ]
  },
  {
   "cell_type": "code",
   "execution_count": 97,
   "id": "52e0ef5d-eeca-4217-b203-d5c958a12bcb",
   "metadata": {},
   "outputs": [
    {
     "data": {
      "text/html": [
       "<div>\n",
       "<style scoped>\n",
       "    .dataframe tbody tr th:only-of-type {\n",
       "        vertical-align: middle;\n",
       "    }\n",
       "\n",
       "    .dataframe tbody tr th {\n",
       "        vertical-align: top;\n",
       "    }\n",
       "\n",
       "    .dataframe thead th {\n",
       "        text-align: right;\n",
       "    }\n",
       "</style>\n",
       "<table border=\"1\" class=\"dataframe\">\n",
       "  <thead>\n",
       "    <tr style=\"text-align: right;\">\n",
       "      <th></th>\n",
       "      <th>Strike</th>\n",
       "      <th>$Call</th>\n",
       "    </tr>\n",
       "  </thead>\n",
       "  <tbody>\n",
       "    <tr>\n",
       "      <th>0</th>\n",
       "      <td>160</td>\n",
       "      <td>50.800000</td>\n",
       "    </tr>\n",
       "    <tr>\n",
       "      <th>1</th>\n",
       "      <td>165</td>\n",
       "      <td>45.755428</td>\n",
       "    </tr>\n",
       "    <tr>\n",
       "      <th>2</th>\n",
       "      <td>170</td>\n",
       "      <td>40.887786</td>\n",
       "    </tr>\n",
       "    <tr>\n",
       "      <th>3</th>\n",
       "      <td>175</td>\n",
       "      <td>36.058482</td>\n",
       "    </tr>\n",
       "    <tr>\n",
       "      <th>4</th>\n",
       "      <td>180</td>\n",
       "      <td>31.397880</td>\n",
       "    </tr>\n",
       "    <tr>\n",
       "      <th>5</th>\n",
       "      <td>185</td>\n",
       "      <td>26.825530</td>\n",
       "    </tr>\n",
       "    <tr>\n",
       "      <th>6</th>\n",
       "      <td>190</td>\n",
       "      <td>22.374867</td>\n",
       "    </tr>\n",
       "    <tr>\n",
       "      <th>7</th>\n",
       "      <td>195</td>\n",
       "      <td>18.100033</td>\n",
       "    </tr>\n",
       "    <tr>\n",
       "      <th>8</th>\n",
       "      <td>200</td>\n",
       "      <td>14.349992</td>\n",
       "    </tr>\n",
       "    <tr>\n",
       "      <th>9</th>\n",
       "      <td>205</td>\n",
       "      <td>10.900002</td>\n",
       "    </tr>\n",
       "    <tr>\n",
       "      <th>10</th>\n",
       "      <td>210</td>\n",
       "      <td>7.949999</td>\n",
       "    </tr>\n",
       "    <tr>\n",
       "      <th>11</th>\n",
       "      <td>215</td>\n",
       "      <td>5.525000</td>\n",
       "    </tr>\n",
       "    <tr>\n",
       "      <th>12</th>\n",
       "      <td>220</td>\n",
       "      <td>3.600000</td>\n",
       "    </tr>\n",
       "    <tr>\n",
       "      <th>13</th>\n",
       "      <td>225</td>\n",
       "      <td>2.270000</td>\n",
       "    </tr>\n",
       "    <tr>\n",
       "      <th>14</th>\n",
       "      <td>230</td>\n",
       "      <td>1.405000</td>\n",
       "    </tr>\n",
       "    <tr>\n",
       "      <th>15</th>\n",
       "      <td>235</td>\n",
       "      <td>0.840000</td>\n",
       "    </tr>\n",
       "    <tr>\n",
       "      <th>16</th>\n",
       "      <td>240</td>\n",
       "      <td>0.525000</td>\n",
       "    </tr>\n",
       "    <tr>\n",
       "      <th>17</th>\n",
       "      <td>245</td>\n",
       "      <td>0.366724</td>\n",
       "    </tr>\n",
       "    <tr>\n",
       "      <th>18</th>\n",
       "      <td>250</td>\n",
       "      <td>0.235751</td>\n",
       "    </tr>\n",
       "    <tr>\n",
       "      <th>19</th>\n",
       "      <td>255</td>\n",
       "      <td>0.104778</td>\n",
       "    </tr>\n",
       "    <tr>\n",
       "      <th>20</th>\n",
       "      <td>260</td>\n",
       "      <td>0.000000</td>\n",
       "    </tr>\n",
       "  </tbody>\n",
       "</table>\n",
       "</div>"
      ],
      "text/plain": [
       "    Strike      $Call\n",
       "0      160  50.800000\n",
       "1      165  45.755428\n",
       "2      170  40.887786\n",
       "3      175  36.058482\n",
       "4      180  31.397880\n",
       "5      185  26.825530\n",
       "6      190  22.374867\n",
       "7      195  18.100033\n",
       "8      200  14.349992\n",
       "9      205  10.900002\n",
       "10     210   7.949999\n",
       "11     215   5.525000\n",
       "12     220   3.600000\n",
       "13     225   2.270000\n",
       "14     230   1.405000\n",
       "15     235   0.840000\n",
       "16     240   0.525000\n",
       "17     245   0.366724\n",
       "18     250   0.235751\n",
       "19     255   0.104778\n",
       "20     260   0.000000"
      ]
     },
     "execution_count": 97,
     "metadata": {},
     "output_type": "execute_result"
    }
   ],
   "source": [
    "call_prices = call_payoff_matrix @ state_prices\n",
    "\n",
    "call_prices = pd.DataFrame({\n",
    "    'Strike': chosen_strikes,\n",
    "    '$Call': call_prices\n",
    "})\n",
    "call_prices"
   ]
  },
  {
   "cell_type": "code",
   "execution_count": 102,
   "id": "8b54a2ff-0a5e-47e6-a371-8aa059fb94bc",
   "metadata": {},
   "outputs": [
    {
     "data": {
      "image/png": "[encoded data removed]",
      "text/plain": [
       "<Figure size 1000x500 with 1 Axes>"
      ]
     },
     "metadata": {},
     "output_type": "display_data"
    }
   ],
   "source": [
    "plt.figure(figsize=(10,5))\n",
    "plt.plot(chosen_strikes, call_prices['$Call'], marker='o')\n",
    "plt.xlabel('Strike')\n",
    "plt.ylabel('Call Price')\n",
    "plt.grid(True)\n",
    "plt.show()"
   ]
  }
 ],
 "metadata": {
  "kernelspec": {
   "display_name": "Python 3 (ipykernel)",
   "language": "python",
   "name": "python3"
  },
  "language_info": {
   "codemirror_mode": {
    "name": "ipython",
    "version": 3
   },
   "file_extension": ".py",
   "mimetype": "text/x-python",
   "name": "python",
   "nbconvert_exporter": "python",
   "pygments_lexer": "ipython3",
   "version": "3.10.16"
  }
 },
 "nbformat": 4,
 "nbformat_minor": 5
}
