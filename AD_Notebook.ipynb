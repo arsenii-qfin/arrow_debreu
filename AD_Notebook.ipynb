{
 "cells": [
  {
   "cell_type": "markdown",
   "id": "c751934f-0d74-4ea9-acd5-f5581d53b09a",
   "metadata": {},
   "source": [
    "# $\\text{Arrow Debreu European Option Solver}$"
   ]
  },
  {
   "cell_type": "code",
   "execution_count": 2,
   "id": "4a716512-a3b1-4db2-a29e-69f308e5f1cd",
   "metadata": {},
   "outputs": [],
   "source": [
    "import yfinance as yf\n",
    "import numpy as np\n",
    "import pandas as pd\n",
    "import matplotlib.pyplot as plt\n",
    "from scipy.optimize import nnls, lsq_linear"
   ]
  },
  {
   "cell_type": "code",
   "execution_count": 3,
   "id": "c02536d0-7501-4623-be60-6b8c17af31d8",
   "metadata": {},
   "outputs": [
    {
     "name": "stdout",
     "output_type": "stream",
     "text": [
      "The following are the available expiration dates:\n",
      "\n",
      "('2025-07-10', '2025-07-11', '2025-07-14', '2025-07-15', '2025-07-16', '2025-07-17', '2025-07-18', '2025-07-21', '2025-07-22', '2025-07-23', '2025-07-24', '2025-07-25', '2025-07-28', '2025-07-29', '2025-07-30', '2025-07-31', '2025-08-01', '2025-08-04', '2025-08-05', '2025-08-06', '2025-08-07', '2025-08-08', '2025-08-11', '2025-08-12', '2025-08-15', '2025-08-22', '2025-08-29', '2025-09-19', '2025-09-30', '2025-10-17', '2025-10-31', '2025-11-21', '2025-11-28', '2025-12-19', '2025-12-31', '2026-01-16', '2026-02-20', '2026-03-20', '2026-03-31', '2026-04-17', '2026-05-15', '2026-06-18', '2026-06-30', '2026-07-17', '2026-09-18', '2026-12-18', '2027-06-17', '2027-12-17', '2028-12-15', '2029-12-21', '2030-12-20')\n",
      "\n",
      "Using Expiry: 2025-07-16\n"
     ]
    }
   ],
   "source": [
    "ticker = '^SPX' #<-- may enter a differnt ticker\n",
    "ticker_data = yf.Ticker(ticker)\n",
    "expiry = ticker_data.options[4] #<-- the grater the index the longer until expiry\n",
    "print(f'The following are the available expiration dates:\\n\\n{ticker_data.options}\\n')\n",
    "print('Using Expiry:', expiry)\n",
    "chain = ticker_data.option_chain(expiry)\n",
    "calls = chain.calls"
   ]
  },
  {
   "cell_type": "code",
   "execution_count": 15,
   "id": "2e2f2111-aebf-480a-9f6a-838717b17073",
   "metadata": {},
   "outputs": [
    {
     "name": "stdout",
     "output_type": "stream",
     "text": [
      "Using Spot: 6280.4599609375 \n",
      "\n",
      "Will be pricing options for the following spot prices: [6255 6267 6280 6292 6305] expiring on 2025-07-16\n"
     ]
    }
   ],
   "source": [
    "#gets the latest spot and computes the states for payoff matrix columns\n",
    "spot = ticker_data.history(period='1d')['Close'].iloc[-1]\n",
    "possible_states = np.linspace( spot - 25, spot + 25, 5, dtype=int)\n",
    "print('Using Spot:', spot, '\\n')\n",
    "print(f'Will be pricing options for the following spot prices: {possible_states} expiring on {expiry}')"
   ]
  },
  {
   "cell_type": "code",
   "execution_count": 16,
   "id": "17ef410d-4e6e-4bbf-a090-9e0c293c0982",
   "metadata": {},
   "outputs": [
    {
     "name": "stdout",
     "output_type": "stream",
     "text": [
      "Available Strikes:\n",
      "\n",
      " [5600, 5625, 5700, 5750, 5790, 5825, 5850, 5860, 5870, 5880, 5890, 5900, 5910, 5920, 5925, 5930, 5940, 5950, 5960, 5970, 5975, 5980, 5990, 6000, 6010, 6015, 6020, 6025, 6030, 6035, 6040, 6050, 6060, 6065, 6070, 6075, 6080, 6085, 6090, 6095, 6100, 6110, 6115, 6120, 6125, 6130, 6135, 6140, 6145, 6150, 6155, 6160, 6165, 6170, 6175, 6180, 6185, 6190, 6195, 6200, 6205, 6210, 6215, 6220, 6225, 6230, 6235, 6240, 6245, 6250, 6255, 6260, 6265, 6270, 6275, 6280, 6285, 6290, 6295, 6300, 6305, 6310, 6320, 6325, 6330, 6335, 6340, 6345, 6350, 6360, 6370, 6375, 6380, 6390, 6400, 6410, 6425, 6450, 6475, 6500, 6525, 6550, 6575, 6600, 6700, 6800, 7000, 7200]\n"
     ]
    }
   ],
   "source": [
    "available_strikes = sorted(calls[\"strike\"])\n",
    "available_strikes = [int(i) for i in available_strikes]\n",
    "for i in available_strikes:\n",
    "    int(i)\n",
    "print('Available Strikes:\\n\\n', available_strikes)"
   ]
  },
  {
   "cell_type": "code",
   "execution_count": 18,
   "id": "d2d1b3e3-9aee-472b-b296-1dd335c3c37d",
   "metadata": {},
   "outputs": [
    {
     "name": "stdout",
     "output_type": "stream",
     "text": [
      "Selected 5 strikes around ATM: \n",
      "\n",
      " [6270 6275 6280 6285 6290]\n"
     ]
    }
   ],
   "source": [
    "atm_index = min(range(len(available_strikes)), key=lambda i: abs(available_strikes[i] - spot))\n",
    "lower_bound = max(atm_index -2, 0)\n",
    "upper_bound = min(atm_index + 3, len(available_strikes))\n",
    "chosen_strikes = available_strikes[lower_bound:upper_bound]\n",
    "chosen_strikes = np.array(chosen_strikes)\n",
    "print(f'Selected {len(chosen_strikes)} strikes around ATM:', '\\n\\n', chosen_strikes)"
   ]
  },
  {
   "cell_type": "code",
   "execution_count": 19,
   "id": "439f8aee-2996-4461-915c-2ff73ca1a97d",
   "metadata": {},
   "outputs": [
    {
     "data": {
      "text/html": [
       "<div>\n",
       "<style scoped>\n",
       "    .dataframe tbody tr th:only-of-type {\n",
       "        vertical-align: middle;\n",
       "    }\n",
       "\n",
       "    .dataframe tbody tr th {\n",
       "        vertical-align: top;\n",
       "    }\n",
       "\n",
       "    .dataframe thead th {\n",
       "        text-align: right;\n",
       "    }\n",
       "</style>\n",
       "<table border=\"1\" class=\"dataframe\">\n",
       "  <thead>\n",
       "    <tr style=\"text-align: right;\">\n",
       "      <th></th>\n",
       "      <th>strike</th>\n",
       "      <th>lastPrice</th>\n",
       "      <th>bid</th>\n",
       "      <th>ask</th>\n",
       "      <th>lastTradeDate</th>\n",
       "      <th>openInterest</th>\n",
       "    </tr>\n",
       "  </thead>\n",
       "  <tbody>\n",
       "    <tr>\n",
       "      <th>0</th>\n",
       "      <td>6270.0</td>\n",
       "      <td>37.40</td>\n",
       "      <td>37.7</td>\n",
       "      <td>38.2</td>\n",
       "      <td>2025-07-10 19:02:11+00:00</td>\n",
       "      <td>447</td>\n",
       "    </tr>\n",
       "    <tr>\n",
       "      <th>1</th>\n",
       "      <td>6275.0</td>\n",
       "      <td>36.40</td>\n",
       "      <td>34.8</td>\n",
       "      <td>35.2</td>\n",
       "      <td>2025-07-10 20:00:07+00:00</td>\n",
       "      <td>1207</td>\n",
       "    </tr>\n",
       "    <tr>\n",
       "      <th>2</th>\n",
       "      <td>6280.0</td>\n",
       "      <td>33.63</td>\n",
       "      <td>32.0</td>\n",
       "      <td>32.4</td>\n",
       "      <td>2025-07-10 20:06:52+00:00</td>\n",
       "      <td>279</td>\n",
       "    </tr>\n",
       "    <tr>\n",
       "      <th>3</th>\n",
       "      <td>6285.0</td>\n",
       "      <td>30.99</td>\n",
       "      <td>29.3</td>\n",
       "      <td>29.8</td>\n",
       "      <td>2025-07-10 20:03:35+00:00</td>\n",
       "      <td>101</td>\n",
       "    </tr>\n",
       "    <tr>\n",
       "      <th>4</th>\n",
       "      <td>6290.0</td>\n",
       "      <td>28.45</td>\n",
       "      <td>26.8</td>\n",
       "      <td>27.2</td>\n",
       "      <td>2025-07-10 19:57:30+00:00</td>\n",
       "      <td>286</td>\n",
       "    </tr>\n",
       "  </tbody>\n",
       "</table>\n",
       "</div>"
      ],
      "text/plain": [
       "   strike  lastPrice   bid   ask             lastTradeDate  openInterest\n",
       "0  6270.0      37.40  37.7  38.2 2025-07-10 19:02:11+00:00           447\n",
       "1  6275.0      36.40  34.8  35.2 2025-07-10 20:00:07+00:00          1207\n",
       "2  6280.0      33.63  32.0  32.4 2025-07-10 20:06:52+00:00           279\n",
       "3  6285.0      30.99  29.3  29.8 2025-07-10 20:03:35+00:00           101\n",
       "4  6290.0      28.45  26.8  27.2 2025-07-10 19:57:30+00:00           286"
      ]
     },
     "execution_count": 19,
     "metadata": {},
     "output_type": "execute_result"
    }
   ],
   "source": [
    "chosen_calls = calls[calls['strike'].isin(chosen_strikes)].copy().reset_index(drop=True)\n",
    "chosen_calls = chosen_calls[['strike', 'lastPrice', 'bid', 'ask', \"lastTradeDate\", \"openInterest\"]]\n",
    "chosen_calls"
   ]
  },
  {
   "cell_type": "code",
   "execution_count": 20,
   "id": "0db80000-7ca4-4843-b629-b7e44ff9e6dd",
   "metadata": {},
   "outputs": [
    {
     "name": "stdout",
     "output_type": "stream",
     "text": [
      "Strikes:\n",
      "\n",
      "[6270. 6275. 6280. 6285. 6290.] \n",
      "\n",
      "Prices:\n",
      "\n",
      " [37.4  36.4  33.63 30.99 28.45]\n"
     ]
    }
   ],
   "source": [
    "strikes = chosen_calls[\"strike\"].values\n",
    "price_vector = chosen_calls[\"lastPrice\"].values\n",
    "print(f'Strikes:\\n\\n{strikes}', f'\\n\\nPrices:\\n\\n {price_vector}')"
   ]
  },
  {
   "cell_type": "code",
   "execution_count": 21,
   "id": "282eb7b5-a455-49cf-9ee2-d987b0178537",
   "metadata": {},
   "outputs": [
    {
     "name": "stdout",
     "output_type": "stream",
     "text": [
      "Call payoff matrix F:\n",
      "\n",
      " [[ 0  0 10 22 35]\n",
      " [ 0  0  5 17 30]\n",
      " [ 0  0  0 12 25]\n",
      " [ 0  0  0  7 20]\n",
      " [ 0  0  0  2 15]]\n"
     ]
    }
   ],
   "source": [
    "terminal_prices = strikes.copy()\n",
    "call_payoff_matrix = np.maximum(possible_states - chosen_strikes[:, None], 0)\n",
    "print(f'Call payoff matrix F:\\n\\n {call_payoff_matrix}')"
   ]
  },
  {
   "cell_type": "code",
   "execution_count": 22,
   "id": "15075a21-43ab-4e91-8537-c5dd8d19119b",
   "metadata": {},
   "outputs": [
    {
     "name": "stdout",
     "output_type": "stream",
     "text": [
      "The mtx is singular, Singular matrix\n",
      "The mtx is singular, Singular matrix\n"
     ]
    }
   ],
   "source": [
    "#this cell is intendted to show that the call pyaoff matrix is indeed singular\n",
    "try:\n",
    "    inverted = np.linalg.inv(call_payoff_matrix)\n",
    "    print(\"surprisngly non singular lol\")\n",
    "except Exception as e:\n",
    "    print(f\"The mtx is singular, {e}\")\n",
    "\n",
    "try:\n",
    "    state_prices = np.linalg.solve(call_payoff_matrix, price_vector)\n",
    "    print(\"surprisngly non singular\")\n",
    "except Exception as e:\n",
    "    print(f\"The mtx is singular, {e}\")"
   ]
  },
  {
   "cell_type": "code",
   "execution_count": 23,
   "id": "4a2cff6c-c73a-4d38-8bed-d6278ad2f09e",
   "metadata": {},
   "outputs": [
    {
     "name": "stdout",
     "output_type": "stream",
     "text": [
      "(array([0.        , 0.        , 0.        , 0.        , 1.27060741]), np.float64(13.256460870640204))\n"
     ]
    }
   ],
   "source": [
    "state_prices = nnls(call_payoff_matrix, price_vector)\n",
    "#normalized_state_prices = state_prices / np.sum(state_prices)\n",
    "print(state_prices)"
   ]
  },
  {
   "cell_type": "code",
   "execution_count": 13,
   "id": "f6f0b01d-d5fa-42fb-b699-96f5ca439640",
   "metadata": {},
   "outputs": [
    {
     "name": "stdout",
     "output_type": "stream",
     "text": [
      "Normalized State Prices ~ probabilities:\n",
      "\n",
      "(array([0.        , 0.        , 0.        , 0.        , 0.        ,\n",
      "       0.        , 0.        , 0.        , 0.        , 0.        ,\n",
      "       1.13354805]), np.float64(34.94791887975554))\n",
      "\n",
      " p.s. \"np.linalg.lstsq\" was resulting in some values being negative so I had to use \"scipy.optimize.nnls\" i.e non-negative least squares.\n"
     ]
    }
   ],
   "source": [
    "print(f'Normalized State Prices ~ probabilities:\\n\\n{state_prices}\\n\\n p.s. \"np.linalg.lstsq\" was resulting in some values being negative so I had to use \"scipy.optimize.nnls\" i.e non-negative least squares.')"
   ]
  },
  {
   "cell_type": "code",
   "execution_count": 42,
   "id": "10f1f963-93e2-4c54-9230-54c0cfd92cee",
   "metadata": {},
   "outputs": [
    {
     "data": {
      "image/png": "[encoded data removed]",
      "text/plain": [
       "<Figure size 1000x500 with 1 Axes>"
      ]
     },
     "metadata": {},
     "output_type": "display_data"
    }
   ],
   "source": [
    "plt.figure(figsize=(10, 5))\n",
    "plt.plot(terminal_prices, normalized_state_prices, marker='o')\n",
    "plt.xlabel('Terminal Price (Strike)')\n",
    "plt.ylabel('State Prices')\n",
    "plt.grid(True)\n",
    "plt.show()"
   ]
  },
  {
   "cell_type": "code",
   "execution_count": 43,
   "id": "52e0ef5d-eeca-4217-b203-d5c958a12bcb",
   "metadata": {},
   "outputs": [
    {
     "data": {
      "text/html": [
       "<div>\n",
       "<style scoped>\n",
       "    .dataframe tbody tr th:only-of-type {\n",
       "        vertical-align: middle;\n",
       "    }\n",
       "\n",
       "    .dataframe tbody tr th {\n",
       "        vertical-align: top;\n",
       "    }\n",
       "\n",
       "    .dataframe thead th {\n",
       "        text-align: right;\n",
       "    }\n",
       "</style>\n",
       "<table border=\"1\" class=\"dataframe\">\n",
       "  <thead>\n",
       "    <tr style=\"text-align: right;\">\n",
       "      <th></th>\n",
       "      <th>Strike</th>\n",
       "      <th>$Call</th>\n",
       "    </tr>\n",
       "  </thead>\n",
       "  <tbody>\n",
       "    <tr>\n",
       "      <th>0</th>\n",
       "      <td>185</td>\n",
       "      <td>25.700000</td>\n",
       "    </tr>\n",
       "    <tr>\n",
       "      <th>1</th>\n",
       "      <td>190</td>\n",
       "      <td>20.345199</td>\n",
       "    </tr>\n",
       "    <tr>\n",
       "      <th>2</th>\n",
       "      <td>195</td>\n",
       "      <td>16.485274</td>\n",
       "    </tr>\n",
       "    <tr>\n",
       "      <th>3</th>\n",
       "      <td>200</td>\n",
       "      <td>12.625348</td>\n",
       "    </tr>\n",
       "    <tr>\n",
       "      <th>4</th>\n",
       "      <td>205</td>\n",
       "      <td>9.015447</td>\n",
       "    </tr>\n",
       "    <tr>\n",
       "      <th>5</th>\n",
       "      <td>210</td>\n",
       "      <td>6.346829</td>\n",
       "    </tr>\n",
       "    <tr>\n",
       "      <th>6</th>\n",
       "      <td>215</td>\n",
       "      <td>4.229756</td>\n",
       "    </tr>\n",
       "    <tr>\n",
       "      <th>7</th>\n",
       "      <td>220</td>\n",
       "      <td>2.713839</td>\n",
       "    </tr>\n",
       "    <tr>\n",
       "      <th>8</th>\n",
       "      <td>225</td>\n",
       "      <td>1.583073</td>\n",
       "    </tr>\n",
       "    <tr>\n",
       "      <th>9</th>\n",
       "      <td>230</td>\n",
       "      <td>0.452307</td>\n",
       "    </tr>\n",
       "    <tr>\n",
       "      <th>10</th>\n",
       "      <td>235</td>\n",
       "      <td>0.000000</td>\n",
       "    </tr>\n",
       "  </tbody>\n",
       "</table>\n",
       "</div>"
      ],
      "text/plain": [
       "    Strike      $Call\n",
       "0      185  25.700000\n",
       "1      190  20.345199\n",
       "2      195  16.485274\n",
       "3      200  12.625348\n",
       "4      205   9.015447\n",
       "5      210   6.346829\n",
       "6      215   4.229756\n",
       "7      220   2.713839\n",
       "8      225   1.583073\n",
       "9      230   0.452307\n",
       "10     235   0.000000"
      ]
     },
     "execution_count": 43,
     "metadata": {},
     "output_type": "execute_result"
    }
   ],
   "source": [
    "call_prices = call_payoff_matrix @ state_prices\n",
    "\n",
    "call_prices = pd.DataFrame({\n",
    "    'Strike': chosen_strikes,\n",
    "    '$Call': call_prices\n",
    "})\n",
    "call_prices"
   ]
  },
  {
   "cell_type": "code",
   "execution_count": 44,
   "id": "8b54a2ff-0a5e-47e6-a371-8aa059fb94bc",
   "metadata": {},
   "outputs": [
    {
     "data": {
      "image/png": "[encoded data removed]",
      "text/plain": [
       "<Figure size 1000x500 with 1 Axes>"
      ]
     },
     "metadata": {},
     "output_type": "display_data"
    }
   ],
   "source": [
    "plt.figure(figsize=(10,5))\n",
    "plt.plot(chosen_strikes, call_prices['$Call'], marker='o')\n",
    "plt.xlabel('Strike')\n",
    "plt.ylabel('Call Price')\n",
    "plt.grid(True)\n",
    "plt.show()"
   ]
  },
  {
   "cell_type": "code",
   "execution_count": 25,
   "id": "3663bed4-cba1-45ff-9eed-cfeb2493e642",
   "metadata": {},
   "outputs": [
    {
     "name": "stdout",
     "output_type": "stream",
     "text": [
      "[[15  3  0  0  0]\n",
      " [20  8  0  0  0]\n",
      " [25 13  0  0  0]\n",
      " [30 18  5  0  0]\n",
      " [35 23 10  0  0]]\n",
      "The mtx is singular, Singular matrix\n",
      "The mtx is singular, Singular matrix\n"
     ]
    },
    {
     "ename": "NameError",
     "evalue": "name 'inverted_put' is not defined",
     "output_type": "error",
     "traceback": [
      "\u001b[0;31m---------------------------------------------------------------------------\u001b[0m",
      "\u001b[0;31mNameError\u001b[0m                                 Traceback (most recent call last)",
      "Cell \u001b[0;32mIn[25], line 31\u001b[0m\n\u001b[1;32m     28\u001b[0m \u001b[38;5;28;01mexcept\u001b[39;00m \u001b[38;5;167;01mException\u001b[39;00m \u001b[38;5;28;01mas\u001b[39;00m e:\n\u001b[1;32m     29\u001b[0m     \u001b[38;5;28mprint\u001b[39m(\u001b[38;5;124mf\u001b[39m\u001b[38;5;124m\"\u001b[39m\u001b[38;5;124mThe mtx is singular, \u001b[39m\u001b[38;5;132;01m{\u001b[39;00me\u001b[38;5;132;01m}\u001b[39;00m\u001b[38;5;124m\"\u001b[39m)\n\u001b[0;32m---> 31\u001b[0m put_state_prices \u001b[38;5;241m=\u001b[39m \u001b[43minverted_put\u001b[49m \u001b[38;5;241m@\u001b[39m put_price_vector\n\u001b[1;32m     32\u001b[0m \u001b[38;5;28mprint\u001b[39m(\u001b[38;5;124mf\u001b[39m\u001b[38;5;124m\"\u001b[39m\u001b[38;5;130;01m\\n\u001b[39;00m\u001b[38;5;130;01m\\n\u001b[39;00m\u001b[38;5;124mNote that the state prices are still neagtive regardless \u001b[39m\u001b[38;5;132;01m{\u001b[39;00mput_state_prices\u001b[38;5;132;01m}\u001b[39;00m\u001b[38;5;124m\"\u001b[39m)\n\u001b[1;32m     34\u001b[0m put_state_prices \u001b[38;5;241m=\u001b[39m [\u001b[38;5;28mmax\u001b[39m(i, \u001b[38;5;241m0\u001b[39m) \u001b[38;5;28;01mfor\u001b[39;00m i \u001b[38;5;129;01min\u001b[39;00m put_state_prices]\n",
      "\u001b[0;31mNameError\u001b[0m: name 'inverted_put' is not defined"
     ]
    }
   ],
   "source": [
    "#below is the whole logic to price puts based on puts and turns out that nnls results in most of the values being zero and\n",
    "# so I just solved for the state prices by inverting the payoff matrix and let all the negative values be zero.\n",
    "puts = chain.puts\n",
    "available_puts = sorted(puts[\"strike\"])\n",
    "available_puts = [int(i) for i in available_puts]\n",
    "atm_put_index = min(range(len(available_puts)), key=lambda i: abs(available_puts[i] - spot))\n",
    "lower_put_bound = max(atm_put_index -2, 0)\n",
    "upper_put_bound = min(atm_put_index + 3, len(available_puts))\n",
    "chosen_put_strikes = available_puts[lower_put_bound:upper_put_bound]\n",
    "chosen_put_strikes = np.array(chosen_put_strikes)\n",
    "chosen_puts = puts[puts['strike'].isin(chosen_put_strikes)].copy().reset_index(drop=True)\n",
    "chosen_puts = chosen_puts[[\"strike\", \"lastPrice\"]]\n",
    "put_strikes = chosen_puts['strike'].values\n",
    "put_price_vector = chosen_puts['lastPrice'].values\n",
    "terminal_put_prices = put_strikes.copy()\n",
    "put_payoff_matrix = np.maximum(chosen_put_strikes[:, None] - possible_states, 0)\n",
    "print(put_payoff_matrix)\n",
    "\n",
    "try:\n",
    "    inverted_put = np.linalg.inv(put_payoff_matrix)\n",
    "    print(\"\\n\\nsurprisngly non singular\")\n",
    "except Exception as e:\n",
    "    print(f\"The mtx is singular, {e}\")\n",
    "\n",
    "try:\n",
    "    put_state_prices = np.linalg.solve(put_payoff_matrix, put_price_vector)\n",
    "    print(\"surprisngly non singular\")\n",
    "except Exception as e:\n",
    "    print(f\"The mtx is singular, {e}\")\n",
    "\n",
    "put_state_prices = inverted_put @ put_price_vector\n",
    "print(f\"\\n\\nNote that the state prices are still neagtive regardless {put_state_prices}\")\n",
    "\n",
    "put_state_prices = [max(i, 0) for i in put_state_prices]\n",
    "\n",
    "normalized_put_state_prices = put_state_prices / np.sum(put_state_prices)\n",
    "\n",
    "plt.figure(figsize=(10, 5))\n",
    "plt.plot(terminal_put_prices, normalized_put_state_prices, marker='o')\n",
    "plt.xlabel('Terminal Price (Strike)')\n",
    "plt.ylabel('Put State Prices')\n",
    "plt.grid(True)\n",
    "plt.show()\n",
    "\n",
    "put_prices = put_payoff_matrix @ put_state_prices\n",
    "\n",
    "put_prices = pd.DataFrame({\n",
    "    'Strike': chosen_put_strikes,\n",
    "    '$Put': put_prices\n",
    "})\n",
    "put_prices\n",
    "\n",
    "plt.figure(figsize=(10,5))\n",
    "plt.plot(chosen_put_strikes, put_prices['$Put'], marker='o')\n",
    "plt.xlabel('Strike')\n",
    "plt.ylabel('Call Price')\n",
    "plt.grid(True)\n",
    "plt.show()"
   ]
  },
  {
   "cell_type": "code",
   "execution_count": null,
   "id": "178eebbf-0931-40be-be18-e353e5583fcb",
   "metadata": {},
   "outputs": [],
   "source": []
  }
 ],
 "metadata": {
  "kernelspec": {
   "display_name": "Python 3 (ipykernel)",
   "language": "python",
   "name": "python3"
  },
  "language_info": {
   "codemirror_mode": {
    "name": "ipython",
    "version": 3
   },
   "file_extension": ".py",
   "mimetype": "text/x-python",
   "name": "python",
   "nbconvert_exporter": "python",
   "pygments_lexer": "ipython3",
   "version": "3.10.16"
  }
 },
 "nbformat": 4,
 "nbformat_minor": 5
}
